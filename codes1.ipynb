{
  "nbformat": 4,
  "nbformat_minor": 0,
  "metadata": {
    "colab": {
      "provenance": [],
      "authorship_tag": "ABX9TyP9SCMGz5GLS2ZA3oH2m8zQ",
      "include_colab_link": true
    },
    "kernelspec": {
      "name": "python3",
      "display_name": "Python 3"
    },
    "language_info": {
      "name": "python"
    }
  },
  "cells": [
    {
      "cell_type": "markdown",
      "metadata": {
        "id": "view-in-github",
        "colab_type": "text"
      },
      "source": [
        "<a href=\"https://colab.research.google.com/github/ayesha6622/-pythonproject/blob/main/codes1.ipynb\" target=\"_parent\"><img src=\"https://colab.research.google.com/assets/colab-badge.svg\" alt=\"Open In Colab\"/></a>"
      ]
    },
    {
      "cell_type": "code",
      "source": [
        "a = int (input(\"enter\"))\n",
        "b = int (input(\"enter\"))\n",
        "if(a>=b):\n",
        "  print (\"true\")\n",
        "else:\n",
        "  print(\"false\")"
      ],
      "metadata": {
        "id": "T7vaRSDJuwAm"
      },
      "execution_count": null,
      "outputs": []
    },
    {
      "cell_type": "code",
      "source": [],
      "metadata": {
        "id": "GDexnR4-5jwu"
      },
      "execution_count": null,
      "outputs": []
    },
    {
      "cell_type": "code",
      "source": [
        "list = [1,34,45,6,7,878,98797,97]\n",
        "index = 0\n",
        "while index < len(list):\n",
        "  print(list[index])\n",
        "  index+=1"
      ],
      "metadata": {
        "id": "RmV_wpGGyDs8"
      },
      "execution_count": null,
      "outputs": []
    },
    {
      "cell_type": "code",
      "source": [
        "# search for a number x in this tuple using loop\n",
        "tuple = (4,5,456,675,76,753,46,463,46)\n",
        "i = 0\n",
        "while i<len(tuple):\n",
        "  print(tuple[i])\n",
        "  i+=1"
      ],
      "metadata": {
        "id": "qgVYG4Dq3n7p"
      },
      "execution_count": null,
      "outputs": []
    },
    {
      "cell_type": "code",
      "source": [
        "nums = (1,2,35,6,61,7,8,86,4,3,3)\n",
        "i=0\n",
        "while i<len(nums):\n",
        "  print(nums[i])\n",
        "  i+=1"
      ],
      "metadata": {
        "id": "73i0W6gH-ZHg"
      },
      "execution_count": null,
      "outputs": []
    },
    {
      "cell_type": "code",
      "source": [
        "list = [1,2,3]\n",
        "for el in list:\n",
        "  print (el)"
      ],
      "metadata": {
        "id": "B9CEJILVBFtJ"
      },
      "execution_count": null,
      "outputs": []
    },
    {
      "cell_type": "code",
      "source": [
        "name = input (\"enter your name \")\n",
        "len = len (name)\n",
        "print (len)"
      ],
      "metadata": {
        "id": "z6iLEMVd9jxr"
      },
      "execution_count": null,
      "outputs": []
    },
    {
      "cell_type": "code",
      "source": [
        "i=1\n",
        "while i<=5:\n",
        "  print (i)\n",
        "  i=i+1"
      ],
      "metadata": {
        "colab": {
          "base_uri": "https://localhost:8080/"
        },
        "id": "t7Z7SdMcthpb",
        "outputId": "2d0b1b78-72d9-4a42-f9e1-05445527bdfb"
      },
      "execution_count": null,
      "outputs": [
        {
          "output_type": "stream",
          "name": "stdout",
          "text": [
            "1\n",
            "2\n",
            "3\n",
            "4\n",
            "5\n"
          ]
        }
      ]
    },
    {
      "cell_type": "code",
      "source": [
        "n = int (input(\"number\"))\n",
        "i=1\n",
        "while(i<=10):\n",
        "  print(n*i)\n",
        "  i+=1"
      ],
      "metadata": {
        "colab": {
          "base_uri": "https://localhost:8080/"
        },
        "id": "f98dJM_7vIyE",
        "outputId": "25a8b9a8-12f2-47e7-8fdd-6264bb8e4d87"
      },
      "execution_count": null,
      "outputs": [
        {
          "output_type": "stream",
          "name": "stdout",
          "text": [
            "number5\n",
            "5\n",
            "10\n",
            "15\n",
            "20\n",
            "25\n",
            "30\n",
            "35\n",
            "40\n",
            "45\n",
            "50\n"
          ]
        }
      ]
    },
    {
      "cell_type": "code",
      "source": [
        "i = 1\n",
        "while (i<=5):\n",
        "  print (\"hi\")\n",
        "  i+=1\n"
      ],
      "metadata": {
        "colab": {
          "base_uri": "https://localhost:8080/"
        },
        "id": "uKPpY9MbEZvS",
        "outputId": "8b7facdb-7b88-4be8-c814-c7041ab92922"
      },
      "execution_count": null,
      "outputs": [
        {
          "output_type": "stream",
          "name": "stdout",
          "text": [
            "hi\n",
            "hi\n",
            "hi\n",
            "hi\n",
            "hi\n"
          ]
        }
      ]
    },
    {
      "cell_type": "code",
      "source": [
        "nums = (1,23,4,5,6,7,8)\n",
        "\n",
        "x=4\n",
        "i=0\n",
        "while i<len(nums):\n",
        "  if(nums[i]==x):\n",
        "    print(\"fount at index\" ,i)\n",
        "  else:\n",
        "    print (\"finding\")\n",
        "  i+=1\n"
      ],
      "metadata": {
        "colab": {
          "base_uri": "https://localhost:8080/"
        },
        "id": "TrOuviiTXvN8",
        "outputId": "23fa23b7-6d79-4099-aff8-ccc8d337235b"
      },
      "execution_count": null,
      "outputs": [
        {
          "output_type": "stream",
          "name": "stdout",
          "text": [
            "finding\n",
            "finding\n",
            "fount at index 2\n",
            "finding\n",
            "finding\n",
            "finding\n",
            "finding\n"
          ]
        }
      ]
    },
    {
      "cell_type": "code",
      "source": [
        "i=1\n",
        "while(i<=10):\n",
        "  if(i%2==0):\n",
        "    i+=1\n",
        "    continue\n",
        "  print (i)\n",
        "  i+=1\n"
      ],
      "metadata": {
        "colab": {
          "base_uri": "https://localhost:8080/"
        },
        "id": "LaPm0sHSYraL",
        "outputId": "2a5cf672-1187-448a-bf6a-26c0173e5c6d"
      },
      "execution_count": null,
      "outputs": [
        {
          "output_type": "stream",
          "name": "stdout",
          "text": [
            "1\n",
            "3\n",
            "5\n",
            "7\n",
            "9\n"
          ]
        }
      ]
    },
    {
      "cell_type": "code",
      "source": [
        "name = \"ayesha\"\n",
        "for elements in name:\n",
        "  print (elements)"
      ],
      "metadata": {
        "colab": {
          "base_uri": "https://localhost:8080/"
        },
        "id": "JmBeirDPaqIg",
        "outputId": "72c9e624-f0dd-45e8-a25d-d8b03cfd3513"
      },
      "execution_count": null,
      "outputs": [
        {
          "output_type": "stream",
          "name": "stdout",
          "text": [
            "a\n",
            "y\n",
            "e\n",
            "s\n",
            "h\n",
            "a\n"
          ]
        }
      ]
    },
    {
      "cell_type": "code",
      "source": [
        "str = \"UPES\"\n",
        "for char in str:\n",
        "  print(char)\n",
        "else:\n",
        "  print(\"end\")"
      ],
      "metadata": {
        "colab": {
          "base_uri": "https://localhost:8080/"
        },
        "id": "0Zv7wXLmapnW",
        "outputId": "9d4faf34-80fe-450a-a2ba-7b45ed73424d"
      },
      "execution_count": null,
      "outputs": [
        {
          "output_type": "stream",
          "name": "stdout",
          "text": [
            "U\n",
            "P\n",
            "E\n",
            "S\n",
            "end\n"
          ]
        }
      ]
    },
    {
      "cell_type": "code",
      "source": [
        "LIST = (1,2,3,4,5,6,8,5,4,3,5,)\n",
        "for el in LIST:\n",
        "  print (el)"
      ],
      "metadata": {
        "colab": {
          "base_uri": "https://localhost:8080/"
        },
        "id": "VHCASnWoczoa",
        "outputId": "fdc31072-3486-4073-bb15-3d991b67b978"
      },
      "execution_count": null,
      "outputs": [
        {
          "output_type": "stream",
          "name": "stdout",
          "text": [
            "1\n",
            "2\n",
            "3\n",
            "4\n",
            "5\n",
            "6\n",
            "8\n",
            "5\n",
            "4\n",
            "3\n",
            "5\n"
          ]
        }
      ]
    },
    {
      "cell_type": "code",
      "source": [
        "list1 = []\n",
        "print (type(list1))\n",
        "list2 = [10,30,60]\n",
        "list3 = [10,77,30,66,60,80]\n",
        "list4 = ['one','two', 'three']\n",
        "list5 = ['asif',25,[50,100],[150,90],{'john','david'}]\n",
        "list6 = [100 , 'asif',17.765]\n",
        "list7 = ['asif',25,[50]]\n",
        "print(len(list6))\n",
        "print(list2)"
      ],
      "metadata": {
        "colab": {
          "base_uri": "https://localhost:8080/"
        },
        "id": "T95G4jdrJQP1",
        "outputId": "9190b099-e8a3-4963-d73d-ed8e072e1c6b"
      },
      "execution_count": null,
      "outputs": [
        {
          "output_type": "stream",
          "name": "stdout",
          "text": [
            "<class 'list'>\n",
            "3\n",
            "[10, 30, 60]\n"
          ]
        }
      ]
    },
    {
      "cell_type": "code",
      "source": [
        "list = [1,2,3,.4,5,6,7,8]\n",
        "list [0]= 8\n",
        "list [-1]= 1\n",
        "print (list)"
      ],
      "metadata": {
        "id": "em8Z6YGtKLqG"
      },
      "execution_count": null,
      "outputs": []
    },
    {
      "cell_type": "code",
      "source": [
        "list = ['a','b','d','df','fdf']\n",
        "list [0] = \"fdf\"\n",
        "list [-1] = a\n",
        "print (list)"
      ],
      "metadata": {
        "id": "zQxvoc2DKLsm"
      },
      "execution_count": null,
      "outputs": []
    }
  ]
}