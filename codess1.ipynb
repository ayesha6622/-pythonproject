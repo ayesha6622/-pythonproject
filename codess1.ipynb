{
  "cells": [
    {
      "cell_type": "markdown",
      "metadata": {
        "id": "view-in-github",
        "colab_type": "text"
      },
      "source": [
        "<a href=\"https://colab.research.google.com/github/ayesha6622/-pythonproject/blob/main/codess1.ipynb\" target=\"_parent\"><img src=\"https://colab.research.google.com/assets/colab-badge.svg\" alt=\"Open In Colab\"/></a>"
      ]
    },
    {
      "cell_type": "code",
      "execution_count": null,
      "metadata": {
        "id": "kYjdLWAYSUfB",
        "outputId": "bd3736ad-25f9-4b20-9df7-b8a967cda3ad"
      },
      "outputs": [
        {
          "name": "stdout",
          "output_type": "stream",
          "text": [
            "Character at index 0 is h\n",
            "Character at index 1 is e\n",
            "Character at index 2 is l\n",
            "Character at index 3 is l\n",
            "Character at index 4 is o\n",
            "Character at index 5 is  \n",
            "Character at index 6 is j\n",
            "Character at index 7 is i\n",
            "Character at index 8 is i\n",
            "Character at index 9 is i\n"
          ]
        }
      ],
      "source": [
        "inp = list(input(\"Enter a string: \"))\n",
        "\n",
        "for i in range(len(inp)):\n",
        "    print(f\"Character at index {i} is {inp[i]}\")"
      ]
    },
    {
      "cell_type": "code",
      "source": [
        "num = int(input('enter a number: '))\n",
        "fact = 1\n",
        "if num < 0:\n",
        "  print(\"factorial doesn't exist for negative numbers\")\n",
        "elif num == 0:\n",
        "  print(\"factorial of 0 is 1\")\n",
        "else:\n",
        "  for i in range(1, num+1):\n",
        "    fact = fact * i\n",
        "  print(\"the factorial of the given {num} is \" + str(fact))"
      ],
      "metadata": {
        "id": "BsXsuJabNkVl"
      },
      "execution_count": null,
      "outputs": []
    },
    {
      "cell_type": "code",
      "execution_count": null,
      "metadata": {
        "id": "_AwVW6cwSUfB",
        "outputId": "a5533f07-345b-47c8-c2f1-3c10d1e3aa0f"
      },
      "outputs": [
        {
          "name": "stdout",
          "output_type": "stream",
          "text": [
            "1 is odd\n",
            "2 is even\n",
            "3 is odd\n",
            "4 is even\n",
            "5 is odd\n",
            "6 is even\n",
            "7 is odd\n",
            "8 is even\n",
            "9 is odd\n",
            "10 is even\n"
          ]
        }
      ],
      "source": [
        "numbers = [1, 2, 3, 4, 5, 6, 7, 8, 9, 10]\n",
        "\n",
        "for num in numbers:\n",
        "    print(f\"{num} is {'even' if num % 2 == 0 else 'odd'}\")"
      ]
    },
    {
      "cell_type": "code",
      "execution_count": null,
      "metadata": {
        "id": "7ffFcNSpSUfC",
        "outputId": "eae984e8-182f-47c5-c68e-29183cb3aa33"
      },
      "outputs": [
        {
          "name": "stdout",
          "output_type": "stream",
          "text": [
            "['H', 'e', 'l', 'l', 'o', 'W', 'o', 'r', 'l', 'd']\n"
          ]
        }
      ],
      "source": [
        "input_string = \"Hello, World!\"\n",
        "letters_list = [char for char in input_string if char.isalpha()]\n",
        "print(letters_list)"
      ]
    },
    {
      "cell_type": "code",
      "execution_count": null,
      "metadata": {
        "id": "-DAbtlvQSUfC",
        "outputId": "052aee7c-f2a2-43d5-c681-c0a33d2c06fa"
      },
      "outputs": [
        {
          "name": "stdout",
          "output_type": "stream",
          "text": [
            "10\n",
            "20\n",
            "30\n",
            "40\n",
            "50\n",
            "60\n",
            "70\n",
            "80\n",
            "90\n",
            "100\n"
          ]
        }
      ],
      "source": [
        "ple = (10, 20, 30, 40, 50, 60, 70, 80, 90, 100)\n",
        "for value in ple:\n",
        "    print(value)"
      ]
    },
    {
      "cell_type": "code",
      "execution_count": null,
      "metadata": {
        "id": "n8keSgvQSUfC",
        "outputId": "bc2d5389-0576-47ef-9edd-9c3965d27c33"
      },
      "outputs": [
        {
          "name": "stdout",
          "output_type": "stream",
          "text": [
            "All elements: [1, 2, 3, 4, 5]\n",
            "Even elements: [2, 4]\n",
            "Odd elements: [1, 3, 5]\n"
          ]
        }
      ],
      "source": [
        "n = int(input(\"Enter the number of elements: \"))\n",
        "ls = [int(input(\"Enter an element: \")) for _ in range(n)]\n",
        "\n",
        "print(\"All elements:\", ls)\n",
        "print(\"Even elements:\", [x for x in ls if x % 2 == 0])\n",
        "print(\"Odd elements:\", [x for x in ls if x % 2 != 0])"
      ]
    },
    {
      "cell_type": "code",
      "execution_count": null,
      "metadata": {
        "id": "UQwSwKgUSUfC",
        "outputId": "7003085d-496a-4534-966b-8f2da8fb8a25"
      },
      "outputs": [
        {
          "name": "stdout",
          "output_type": "stream",
          "text": [
            "List of letters: ['h', 'e', 'l', 'l', 'o', 'j', 'i']\n"
          ]
        }
      ],
      "source": [
        "str1 = input(\"Enter a string: \")\n",
        "ls1 = [letter for letter in str1 if letter.isalpha()]\n",
        "print(\"List of letters:\", ls1)"
      ]
    },
    {
      "cell_type": "code",
      "execution_count": null,
      "metadata": {
        "id": "WkyuCdk1SUfD",
        "outputId": "d71fda80-c90b-444e-f29e-44bbbcbb59cd"
      },
      "outputs": [
        {
          "name": "stdout",
          "output_type": "stream",
          "text": [
            "1\n",
            "2\n",
            "3\n",
            "4\n",
            "5\n",
            "6\n",
            "7\n",
            "8\n",
            "9\n",
            "10\n"
          ]
        },
        {
          "data": {
            "text/plain": [
              "[None, None, None, None, None, None, None, None, None, None]"
            ]
          },
          "execution_count": 1,
          "metadata": {},
          "output_type": "execute_result"
        }
      ],
      "source": [
        "tup = tuple(range(1, 11))\n",
        "[print(value) for value in tup]"
      ]
    },
    {
      "cell_type": "markdown",
      "metadata": {
        "id": "uCilmw0uSUfD"
      },
      "source": [
        "wap to swap first and last element of list\n",
        "wap to create list that stores the prime no"
      ]
    },
    {
      "cell_type": "code",
      "execution_count": null,
      "metadata": {
        "id": "JLVlk5ONSUfE",
        "outputId": "57d5a4df-9f4a-4760-ae21-1d0fe965e91a"
      },
      "outputs": [
        {
          "name": "stdout",
          "output_type": "stream",
          "text": [
            "[10, 20, 30, 40]\n",
            "[40, 20, 30, 10]\n"
          ]
        }
      ],
      "source": [
        "l1=[10,20,30,40]\n",
        "print(l1)\n",
        "l1[0], l1[-1] = l1[-1], l1[0]\n",
        "print(l1)"
      ]
    },
    {
      "cell_type": "code",
      "execution_count": null,
      "metadata": {
        "id": "dENpk6iySUfE",
        "outputId": "b1c3ed51-cebf-4ac8-e679-8b4c7609f255"
      },
      "outputs": [
        {
          "name": "stdout",
          "output_type": "stream",
          "text": [
            "[2, 3, 5, 7, 11, 13, 17, 19, 23, 29, 31, 37, 41, 43, 47, 53, 59, 61, 67, 71, 73, 79, 83, 89, 97]\n"
          ]
        }
      ],
      "source": [
        "lt = [num for num in range(2, 101) if all(num % i != 0 for i in range(2, int(num**0.5) + 1))]\n",
        "print(lt)"
      ]
    },
    {
      "cell_type": "markdown",
      "metadata": {
        "id": "fgXGDWzVSUfE"
      },
      "source": [
        "wap to insert random numbers in the list and find the largest number"
      ]
    },
    {
      "cell_type": "code",
      "execution_count": null,
      "metadata": {
        "id": "3pHfhayHSUfE"
      },
      "outputs": [],
      "source": [
        "import random\n",
        "numbers = []\n",
        "for i in range(10):\n",
        "    number = random.randint(1, 100)\n",
        "    numbers.append(number)\n",
        "\n",
        "largest_number = max(numbers)\n",
        "print(\"The largest number is:\", largest_number)"
      ]
    },
    {
      "cell_type": "markdown",
      "metadata": {
        "id": "my8TXhorSUfF"
      },
      "source": []
    },
    {
      "cell_type": "code",
      "source": [
        "\n",
        "def lst_find():\n",
        "    lst = list(map(int, input(\"Enter numbers separated by spaces: \").split()))\n",
        "    f = lambda n: (max(n), min(n))\n",
        "    maxv, minv = f(lst)\n",
        "    print(f\"Max: {maxv}, Min: {minv}\")\n",
        "\n",
        "def fibb(n):\n",
        "    a, b = 0, 1\n",
        "    while a <= n:\n",
        "        print(a, end=\" \")\n",
        "        a, b = b, a + b\n",
        "\n",
        "def sb(h):\n",
        "    sb = sum(i**3 for i in range(1, h))\n",
        "    return sb\n",
        "\n",
        "\n"
      ],
      "metadata": {
        "id": "zUyCM4FvSogT"
      },
      "execution_count": null,
      "outputs": []
    },
    {
      "cell_type": "code",
      "source": [
        "from feb21 import lst_find, fibb, sb\n",
        "a = 'yes'\n",
        "while a=='yes':\n",
        "    print(\"\"\"\n",
        "    1. Find minimum and maximum from a list\n",
        "    2. Print Fibonacci series\n",
        "    3. Calculate sum of cubes \\n\"\"\")\n",
        "\n",
        "    choice = input(\"Enter your choice: \\n\")\n",
        "\n",
        "    if choice == '1':\n",
        "        min_val, max_val = lst_find()\n",
        "\n",
        "    elif choice == '2':\n",
        "        num = int(input(\"Enter a number: \\n\"))\n",
        "        fibb(num)\n",
        "\n",
        "    elif choice == '3':\n",
        "        num = int(input(\"Enter a number: \\n\"))\n",
        "        result = sb(num)\n",
        "        print(\"Sum of cubes of positive integers smaller than\", num, \"is:\", result)\n",
        "\n",
        "    else:\n",
        "        print(\"Invalid choice! Please enter a number between 1 and 4.\\n\")\n",
        "    a=input(\"yes to continue and no fo exit again.\\n\")\n"
      ],
      "metadata": {
        "id": "iUKxtcikSx5-"
      },
      "execution_count": null,
      "outputs": []
    },
    {
      "cell_type": "code",
      "source": [
        "def fib(n):\n",
        "    fibi = [0, 1]\n",
        "    while len(fibi) < n:\n",
        "        fibi.append(fibi[-1] + fibi[-2])\n",
        "    return fibi\n",
        "result = fib(10)\n",
        "print(result)"
      ],
      "metadata": {
        "id": "OyaNFj8qNwa7"
      },
      "execution_count": null,
      "outputs": []
    },
    {
      "cell_type": "code",
      "source": [
        "cu=[]\n",
        "for i in range(40):\n",
        "    if i%2==0:\n",
        "        cu.append(i)\n",
        "print(cu)\n",
        "\n",
        "l2 = [i for i in range(40) if i % 2 == 0]\n",
        "print(l2)\n"
      ],
      "metadata": {
        "id": "9ISXyXQHNw2c"
      },
      "execution_count": null,
      "outputs": []
    },
    {
      "cell_type": "code",
      "source": [
        "Dict = {'roll_no': '161', \"name\": \"arnav\", \"course\":\"bca\"}\n",
        "print (\"dict[roll no]= \",Dict['roll_no'])\n",
        "print (\"dict[name]= \",Dict['name'])"
      ],
      "metadata": {
        "id": "8neodQknNw5D"
      },
      "execution_count": null,
      "outputs": []
    },
    {
      "cell_type": "code",
      "source": [
        "def add(x, y):\n",
        "    return x + y\n",
        "\n",
        "def subtract(x, y):\n",
        "    return x - y\n",
        "\n",
        "def multiply(x, y):\n",
        "    return x * y\n",
        "\n",
        "def divide(x, y):\n",
        "   try:\n",
        "       x / y\n",
        "   except(ZeroDivisionError):\n",
        "       print(\"number can not divide by zero\")\n",
        "def calculator():\n",
        "    print(\"\"\"Simple Calculator\n",
        "1.to  Addition\n",
        "2.to  Subtraction\n",
        "3.to  Multiplication\n",
        "4.to Division\"\"\")\n",
        "\n",
        "    choice = input(\"Enter choice (1/2/3/4): \")\n",
        "    try:\n",
        "        num1 = float(input(\"Enter first number: \"))\n",
        "        num2 = float(input(\"Enter second number: \"))\n",
        "\n",
        "        if choice == '1':\n",
        "            result = add(num1, num2)\n",
        "            print(\"Result: {:.2f}\".format(result))\n",
        "        elif choice == '2':\n",
        "            result = subtract(num1, num2)\n",
        "            print(\"Result: {:.2f}\".format(result))\n",
        "        elif choice == '3':\n",
        "            result = multiply(num1, num2)\n",
        "            print(\"Result: {:.2f}\".format(result))\n",
        "        elif choice == '4':\n",
        "            result = divide(num1, num2)\n",
        "            print(\"Result:\", result)\n",
        "    except(ValueError):\n",
        "\n",
        "    except(SyntaxError):\n",
        "        calculator()\n",
        "    finally():\n"
      ],
      "metadata": {
        "id": "K_WHhRZENw7X"
      },
      "execution_count": null,
      "outputs": []
    },
    {
      "cell_type": "code",
      "source": [
        "def calculator():\n",
        "    print(\"Simple Calculator\")\n",
        "\n",
        "    exp = input(\"Enter expression (e.g., 2 + 3): \")\n",
        "    result = eval(exp)\n",
        "    print(\"Result:\", result)\n",
        "\n",
        "calculator()\n"
      ],
      "metadata": {
        "id": "QEqT0gUdNw90"
      },
      "execution_count": null,
      "outputs": []
    },
    {
      "cell_type": "code",
      "source": [
        "def count_words(sen):\n",
        "    wrds = sen.split()\n",
        "    return len(wrds)\n",
        "\n",
        "# Example usage:\n",
        "sen = input(\"Enter a sentence: \")\n",
        "word_count = count_words(sen)\n",
        "print(f\"Number of words in the sentence: {word_count}\")"
      ],
      "metadata": {
        "id": "ovkBkZrMNxAP"
      },
      "execution_count": null,
      "outputs": []
    },
    {
      "cell_type": "code",
      "source": [
        "def cont(str1):\n",
        "    wr = str1.split()\n",
        "    co = {}\n",
        "    for word in wr:\n",
        "        co[word] = len(word)\n",
        "    return co\n",
        "str1 = input(\"Enter a sentence: \")\n",
        "result = cont(str1)\n",
        "print(\"Number of characters in:\")\n",
        "print(str1)\n",
        "for word, count in result.items():\n",
        "    print(f\"{word} = {count}\")"
      ],
      "metadata": {
        "id": "sxYwLOiENxC6"
      },
      "execution_count": null,
      "outputs": []
    },
    {
      "cell_type": "code",
      "source": [
        "def fib(n):\n",
        "    fibs = [0, 1]\n",
        "    a = 0\n",
        "    b = 1\n",
        "    for i in range(2, n + 1):\n",
        "        c = a + b\n",
        "        a = b\n",
        "        b = c\n",
        "        fibs.append(c)\n",
        "    return fibs\n",
        "fibs = fib(13)\n",
        "print(fibs)\n"
      ],
      "metadata": {
        "id": "DXPTnwvWNxFL"
      },
      "execution_count": null,
      "outputs": []
    },
    {
      "cell_type": "code",
      "source": [
        "def fib(n):\n",
        "    if n <= 1:\n",
        "        return n\n",
        "    else:\n",
        "        return fib(n - 1) + fib(n - 2)\n",
        "def generate_fib_sequence(n):\n",
        "    fibs = []\n",
        "    for i in range(n):\n",
        "        fibs.append(fib(i))\n",
        "    return fibs\n",
        "fibs_recursive = generate_fib_sequence(13)\n",
        "print(fibs_recursive)\n"
      ],
      "metadata": {
        "id": "UazpjzzgNxH-"
      },
      "execution_count": null,
      "outputs": []
    },
    {
      "cell_type": "code",
      "source": [
        "def recursive_fib(n):\n",
        "    if n <= 1:\n",
        "        return n\n",
        "    else:\n",
        "        return recursive_fib(n - 1) + recursive_fib(n - 2)\n",
        "n = 13\n",
        "fibs_recursive = [recursive_fib(i) for i in range(n + 1)]\n",
        "print(fibs_recursive)\n"
      ],
      "metadata": {
        "id": "UAZKEbiRNxKf"
      },
      "execution_count": null,
      "outputs": []
    },
    {
      "cell_type": "code",
      "source": [
        "def prim(n):\n",
        "    def is_prime(num):\n",
        "        if num < 2:\n",
        "            return False\n",
        "        for i in range(2, int(num**0.5) + 1):\n",
        "            if num % i == 0:\n",
        "                return False\n",
        "        return True\n",
        "    i = 2\n",
        "    while i <= n:\n",
        "        if is_prime(i):\n",
        "            print(i)\n",
        "        i += 1\n",
        "prim(100)"
      ],
      "metadata": {
        "id": "9HIt1ilJNxNO"
      },
      "execution_count": null,
      "outputs": []
    },
    {
      "cell_type": "code",
      "source": [
        "def c(n):\n",
        "    a = n ** 3\n",
        "    f = lambda h: h ** 7\n",
        "    return f(a)\n",
        "result = c(2)\n",
        "print(result)"
      ],
      "metadata": {
        "id": "meLYJkjWNxP1"
      },
      "execution_count": null,
      "outputs": []
    },
    {
      "cell_type": "code",
      "source": [
        "lst=list(input)\n",
        "lste=list(filter(lambda n: n%2!=0, lst))\n",
        "print(lste)\n",
        "lste=list(filter(lambda n: n%2==0, lst))\n",
        "print(lste)\n",
        "lst_squared = list(map(lambda n: n ** 2, lst))\n",
        "print(\"Squared numbers:\", lst_squared)"
      ],
      "metadata": {
        "id": "yx9U_Li1NxSR"
      },
      "execution_count": null,
      "outputs": []
    },
    {
      "cell_type": "code",
      "source": [
        "numbers_input = input(\"Enter numbers separated by spaces: \").split()\n",
        "lst = [int(num) for num in numbers_input]\n",
        "\n",
        "lsto = [n for n in lst if n % 2 != 0]\n",
        "print(\"Length of Odd numbers:\", len(lsto))\n",
        "print(\"Odd numbers:\", lsto)\n",
        "\n",
        "lste = [n for n in lst if n % 2 == 0]\n",
        "print(\"Length of Even numbers:\", len(lste))\n",
        "print(\"Even numbers:\", lste)\n"
      ],
      "metadata": {
        "id": "MjhHwufeNxU3"
      },
      "execution_count": null,
      "outputs": []
    },
    {
      "cell_type": "code",
      "source": [
        "lst = list(map(int, input(\"Enter numbers separated by spaces: \").split()))\n",
        "\n",
        "lsto = list(filter(lambda n: n % 2 != 0, lst))\n",
        "print(\" len of Odd numbers:\",len(lsto))\n",
        "print(\"Odd numbers:\", lsto)\n",
        "\n",
        "lste = list(filter(lambda n: n % 2 == 0, lst))\n",
        "print(\" len of even numbers:\",len(lste))\n",
        "print(\"Even numbers:\", lste)\n"
      ],
      "metadata": {
        "id": "gZBVKxFWNxXQ"
      },
      "execution_count": null,
      "outputs": []
    },
    {
      "cell_type": "code",
      "source": [
        "def sb(n):\n",
        "    sb = sum(i**3 for i in range(1, n))\n",
        "    return sb\n",
        "\n",
        "n = int(input(\"Enter a number: \"))\n",
        "rst = sb(n)\n",
        "print(\"sum of cubes of positive integers smaller than\", n, \"is:\", rst)\n"
      ],
      "metadata": {
        "id": "IgBl8GQYNxZx"
      },
      "execution_count": null,
      "outputs": []
    },
    {
      "cell_type": "code",
      "source": [
        "def fibb(n):\n",
        "    a, b = 0, 1\n",
        "    while a <= n:\n",
        "        print(a, end=\" \")\n",
        "        a = b,\n",
        "        b = a + b\n",
        "\n",
        "num = int(input(\"Enter a positive integer: \"))\n",
        "print(\"Fibonacci numbers up to\", num, \"are:\")\n",
        "fibb(num)"
      ],
      "metadata": {
        "id": "CVcNY13oNxdO"
      },
      "execution_count": null,
      "outputs": []
    },
    {
      "cell_type": "code",
      "source": [
        "def lst_find():\n",
        "    lst = list(map(int, input(\"Enter numbers separated by spaces: \").split()))\n",
        "    minv = min(lst, key=lambda x: x)\n",
        "    maxv = max(lst, key=lambda x: x)\n",
        "    return minv, maxv"
      ],
      "metadata": {
        "id": "hObXx2G-ObpI"
      },
      "execution_count": null,
      "outputs": []
    },
    {
      "cell_type": "code",
      "source": [
        "class Rectangle:\n",
        "    def __init__(self, length, breath):\n",
        "        self.length = length\n",
        "        self.breath = breath\n",
        "\n",
        "    def area(self):\n",
        "        return self.length * self.breath\n",
        "\n",
        "rect = Rectangle(45, 23)\n",
        "\n",
        "print(rect.area())\n"
      ],
      "metadata": {
        "id": "m-8Pax5SObrk"
      },
      "execution_count": null,
      "outputs": []
    },
    {
      "cell_type": "code",
      "source": [
        "class fact:\n",
        "    def __init__(self,num):\n",
        "        self.num = num\n",
        "    def febb(self):\n",
        "        fa=1\n",
        "        for i in range(1, num+1):\n",
        "            fa = fa * i\n",
        "        return fa\n",
        "    num=int(input(\"enter number til to print factorial\"))\n",
        "    febb()"
      ],
      "metadata": {
        "id": "SA5lscpUObuG"
      },
      "execution_count": null,
      "outputs": []
    },
    {
      "cell_type": "code",
      "source": [
        "#Numpy is a general-purpose array-processing package.\n",
        "import numpy as np\n",
        "lst1=[1,2,3,4]\n",
        "lst2=[5,6,7,8]\n",
        "lst3=[20,11,0,1]\n",
        "arr=np.array([lst1,lst2,lst3])\n",
        "arr\n"
      ],
      "metadata": {
        "id": "ljy3Fz7wObwe"
      },
      "execution_count": null,
      "outputs": []
    },
    {
      "cell_type": "code",
      "source": [
        "\n",
        "#creating array from tuple\n",
        "\n",
        "arr1=np.array((9,8,7,6))\n",
        "arr1\n",
        "\n",
        "\n",
        "arr1[1:] #start from  element located at index 1\n",
        "\n",
        "arr1[:1]# start but end at location 1 but dont include index 1\n",
        "\n",
        "arr[1:3, 1:2]\n",
        "\n",
        "arr1[::2] #start,end, stepsize\n",
        "\n",
        "\n",
        "a1=arr.reshape(4,3)\n",
        "a1\n",
        "\n",
        "\n",
        "\n",
        "a1[1:2,:2]\n",
        "a1+=1\n",
        "\n",
        "\n",
        "#Exploratory Data Analysis\n",
        "arr\n",
        "arr[arr<12]\n",
        "\n",
        "##mechanism to create an array\n",
        "np.arange(1,20,2).reshape(2,5)\n",
        "\n",
        "##mechanism to create a 1D array\n",
        "np.arange(1,20,2).reshape(2,5,1)\n",
        "\n",
        "\n"
      ],
      "metadata": {
        "id": "rJZqrtcQOb6e"
      },
      "execution_count": null,
      "outputs": []
    },
    {
      "cell_type": "code",
      "source": [
        "arr1*arr1\n",
        "\n",
        "np.ones((5,4))\n",
        "\n",
        "np.zeros((4,5))\n",
        "\n",
        "\n",
        "np.random.randint(10,50,4).reshape(2,2)\n",
        "\n",
        "np.random.randn(5,6)"
      ],
      "metadata": {
        "id": "vfeVgLuGOb_p"
      },
      "execution_count": null,
      "outputs": []
    },
    {
      "cell_type": "code",
      "source": [
        "\n",
        "num = int(input(\"Enter a number: \"))\n",
        "if num < 0:\n",
        "    print(\"Please enter a positive number.\")\n",
        "else:\n",
        "    print(f\"Multiplication Table for {num}:\")\n",
        "    for i in range(1, 11):\n",
        "        print(\"7 *\" ,i ,\"=\",num * i)"
      ],
      "metadata": {
        "id": "BfT3GlgoOcCN"
      },
      "execution_count": null,
      "outputs": []
    },
    {
      "cell_type": "code",
      "source": [
        "num = int(input(\"Enter a number: \"))\n",
        "sum_digits = sum(int(digit) ** len(str(num)) for digit in str(num))\n",
        "if num == sum_digits:\n",
        "    print(f\"{num} is an Armstrong number.\")\n",
        "else:\n",
        "    print(f\"{num} is not an Armstrong number.\")"
      ],
      "metadata": {
        "id": "hdBXe-tjOcEw"
      },
      "execution_count": null,
      "outputs": []
    },
    {
      "cell_type": "code",
      "source": [
        "inp = list(input(\"Enter a string: \"))\n",
        "\n",
        "for i in range(len(inp)):\n",
        "    print(f\"Character at index {i} is {inp[i]}\")"
      ],
      "metadata": {
        "id": "5qauJIhkOcHS"
      },
      "execution_count": null,
      "outputs": []
    },
    {
      "cell_type": "code",
      "source": [
        "numbers = [1, 2, 3, 4, 5, 6, 7, 8, 9, 10]\n",
        "for num in numbers:\n",
        "    print(f\"{num} is {'even' if num % 2 == 0 else 'odd'}\")"
      ],
      "metadata": {
        "id": "6qOWBd44OcNZ"
      },
      "execution_count": null,
      "outputs": []
    },
    {
      "cell_type": "code",
      "source": [
        "input_string = \"Hello, World!\"\n",
        "letters_list = [char for char in input_string if char.isalpha()]\n",
        "print(letters_list)"
      ],
      "metadata": {
        "id": "L21iQvoIPVDl"
      },
      "execution_count": null,
      "outputs": []
    },
    {
      "cell_type": "code",
      "source": [
        "ple = (10, 20, 30, 40, 50, 60, 70, 80, 90, 100)\n",
        "for value in ple:\n",
        "  print(value)"
      ],
      "metadata": {
        "id": "eq4Nq4cbPVGc"
      },
      "execution_count": null,
      "outputs": []
    },
    {
      "cell_type": "code",
      "source": [
        "n = int(input(\"Enter the number of elements: \"))\n",
        "ls = [int(input(\"Enter an element: \")) for _ in range(n)]\n",
        "\n",
        "print(\"All elements:\", ls)\n",
        "print(\"Even elements:\", [x for x in ls if x % 2 == 0])\n",
        "print(\"Odd elements:\", [x for x in ls if x % 2 != 0])"
      ],
      "metadata": {
        "id": "DYJo-ON4PVJN"
      },
      "execution_count": null,
      "outputs": []
    },
    {
      "cell_type": "code",
      "source": [
        "str1 = input(\"Enter a string: \")\n",
        "ls1 = [letter for letter in str1 if letter.isalpha()]\n",
        "print(\"List of letters:\", ls1)"
      ],
      "metadata": {
        "id": "yk_rmNQqPVL-"
      },
      "execution_count": null,
      "outputs": []
    },
    {
      "cell_type": "code",
      "source": [
        "tup = tuple(range(1, 11))\n",
        "[print(value) for value in tup]"
      ],
      "metadata": {
        "id": "dWYWjf2-PVOb"
      },
      "execution_count": null,
      "outputs": []
    },
    {
      "cell_type": "code",
      "source": [
        "l1=[10,20,30,40]\n",
        "print(l1)\n",
        "l1[0], l1[-1] = l1[-1], l1[0]\n",
        "print(l1)"
      ],
      "metadata": {
        "id": "LUOeJKm8PVR6"
      },
      "execution_count": null,
      "outputs": []
    },
    {
      "cell_type": "code",
      "source": [
        "lt = [num for num in range(2, 101) if all(num % i != 0 for i in range(2, int(num**0.5) + 1))]\n",
        "print(lt)"
      ],
      "metadata": {
        "id": "-HPHY3hQPeZg"
      },
      "execution_count": null,
      "outputs": []
    },
    {
      "cell_type": "code",
      "source": [
        "import random\n",
        "numbers = []\n",
        "for i in range(10):\n",
        "    number = random.randint(1, 100)\n",
        "    numbers.append(number)\n",
        "largest_number = max(numbers)\n",
        "print(\"The largest number is:\", largest_number)"
      ],
      "metadata": {
        "id": "7lOwiKe-PecX"
      },
      "execution_count": null,
      "outputs": []
    },
    {
      "cell_type": "code",
      "source": [
        "tup=(10,20,74,54,47,52,65,66,95,23,78)\n",
        "h=list(tup)\n",
        "print(\"your tuple is \\n\",tup  ,\n",
        "      \"your list is\\n\",h)\n"
      ],
      "metadata": {
        "id": "mAO7r1egPefX"
      },
      "execution_count": null,
      "outputs": []
    },
    {
      "cell_type": "code",
      "source": [
        "n=int(input(\"enter value\"))\n",
        "ind=int(input(\"enter index\"))\n",
        "ls=[10,40,84]\n",
        "h=ls.insert(n,ind)\n",
        "print(ls)"
      ],
      "metadata": {
        "id": "a_JslGYoPeh1"
      },
      "execution_count": null,
      "outputs": []
    }
  ],
  "metadata": {
    "kernelspec": {
      "display_name": "Python 3",
      "language": "python",
      "name": "python3"
    },
    "language_info": {
      "codemirror_mode": {
        "name": "ipython",
        "version": 3
      },
      "file_extension": ".py",
      "mimetype": "text/x-python",
      "name": "python",
      "nbconvert_exporter": "python",
      "pygments_lexer": "ipython3",
      "version": "3.11.7"
    },
    "colab": {
      "provenance": [],
      "include_colab_link": true
    }
  },
  "nbformat": 4,
  "nbformat_minor": 0
}