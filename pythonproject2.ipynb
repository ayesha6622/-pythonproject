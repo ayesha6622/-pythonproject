{
  "cells": [
    {
      "cell_type": "markdown",
      "metadata": {
        "id": "view-in-github",
        "colab_type": "text"
      },
      "source": [
        "<a href=\"https://colab.research.google.com/github/ayesha6622/-pythonproject/blob/main/pythonproject2.ipynb\" target=\"_parent\"><img src=\"https://colab.research.google.com/assets/colab-badge.svg\" alt=\"Open In Colab\"/></a>"
      ]
    },
    {
      "cell_type": "code",
      "source": [
        "!python -m calendar 2024"
      ],
      "metadata": {
        "colab": {
          "base_uri": "https://localhost:8080/"
        },
        "id": "iwicbiElRMi5",
        "outputId": "e8065bb4-ce23-4595-8cba-fb6bc0495577"
      },
      "execution_count": null,
      "outputs": [
        {
          "output_type": "stream",
          "name": "stdout",
          "text": [
            "                                  2024\n",
            "\n",
            "      January                   February                   March\n",
            "Mo Tu We Th Fr Sa Su      Mo Tu We Th Fr Sa Su      Mo Tu We Th Fr Sa Su\n",
            " 1  2  3  4  5  6  7                1  2  3  4                   1  2  3\n",
            " 8  9 10 11 12 13 14       5  6  7  8  9 10 11       4  5  6  7  8  9 10\n",
            "15 16 17 18 19 20 21      12 13 14 15 16 17 18      11 12 13 14 15 16 17\n",
            "22 23 24 25 26 27 28      19 20 21 22 23 24 25      18 19 20 21 22 23 24\n",
            "29 30 31                  26 27 28 29               25 26 27 28 29 30 31\n",
            "\n",
            "       April                      May                       June\n",
            "Mo Tu We Th Fr Sa Su      Mo Tu We Th Fr Sa Su      Mo Tu We Th Fr Sa Su\n",
            " 1  2  3  4  5  6  7             1  2  3  4  5                      1  2\n",
            " 8  9 10 11 12 13 14       6  7  8  9 10 11 12       3  4  5  6  7  8  9\n",
            "15 16 17 18 19 20 21      13 14 15 16 17 18 19      10 11 12 13 14 15 16\n",
            "22 23 24 25 26 27 28      20 21 22 23 24 25 26      17 18 19 20 21 22 23\n",
            "29 30                     27 28 29 30 31            24 25 26 27 28 29 30\n",
            "\n",
            "        July                     August                  September\n",
            "Mo Tu We Th Fr Sa Su      Mo Tu We Th Fr Sa Su      Mo Tu We Th Fr Sa Su\n",
            " 1  2  3  4  5  6  7                1  2  3  4                         1\n",
            " 8  9 10 11 12 13 14       5  6  7  8  9 10 11       2  3  4  5  6  7  8\n",
            "15 16 17 18 19 20 21      12 13 14 15 16 17 18       9 10 11 12 13 14 15\n",
            "22 23 24 25 26 27 28      19 20 21 22 23 24 25      16 17 18 19 20 21 22\n",
            "29 30 31                  26 27 28 29 30 31         23 24 25 26 27 28 29\n",
            "                                                    30\n",
            "\n",
            "      October                   November                  December\n",
            "Mo Tu We Th Fr Sa Su      Mo Tu We Th Fr Sa Su      Mo Tu We Th Fr Sa Su\n",
            "    1  2  3  4  5  6                   1  2  3                         1\n",
            " 7  8  9 10 11 12 13       4  5  6  7  8  9 10       2  3  4  5  6  7  8\n",
            "14 15 16 17 18 19 20      11 12 13 14 15 16 17       9 10 11 12 13 14 15\n",
            "21 22 23 24 25 26 27      18 19 20 21 22 23 24      16 17 18 19 20 21 22\n",
            "28 29 30 31               25 26 27 28 29 30         23 24 25 26 27 28 29\n",
            "                                                    30 31\n"
          ]
        }
      ]
    },
    {
      "cell_type": "code",
      "source": [
        "defsum_of_cubes(n)\n",
        "\n",
        "  return sum ([i*3 for i in range (i,n)])\n",
        "\n",
        "  input_number = (int(input(\"enter a positive integer\"))\n",
        "\n",
        "\n"
      ],
      "metadata": {
        "id": "N-A4S-q7peiO"
      },
      "execution_count": null,
      "outputs": []
    },
    {
      "cell_type": "code",
      "source": [
        "#write a functon to print minimum and maximum from a list using lambda function\n",
        "find_min_max = lambda list: [min(list), max(list)]\n",
        "input_list = [10, 6, 8, 90, 12, 56]\n",
        "output = find_min_max(input_list)\n",
        "print(output)"
      ],
      "metadata": {
        "colab": {
          "base_uri": "https://localhost:8080/"
        },
        "id": "cigjbSL_ryDg",
        "outputId": "3e989e43-8765-4612-c96f-e7a10d7d0b67"
      },
      "execution_count": null,
      "outputs": [
        {
          "output_type": "stream",
          "name": "stdout",
          "text": [
            "[6, 90]\n"
          ]
        }
      ]
    },
    {
      "cell_type": "code",
      "source": [
        "#write a function to print n fabonacci series\n",
        "num = 10\n",
        "n1 , n2 = 0 ,1\n",
        "print (\"fabonacci series\", n1,n2 , end=\" \")\n",
        "for i in range (2,num):\n",
        "  n3 = n1 + n2\n",
        "  n1 = n2\n",
        "  n2 = n3\n",
        "  print (n3 , end=\" \")\n",
        "  print ()"
      ],
      "metadata": {
        "colab": {
          "base_uri": "https://localhost:8080/"
        },
        "id": "4Nz20lY8sRQb",
        "outputId": "ad940b79-8230-4557-d5b8-553b50d28a74"
      },
      "execution_count": null,
      "outputs": [
        {
          "output_type": "stream",
          "name": "stdout",
          "text": [
            "fabonacci series 0 1 1 \n",
            "2 \n",
            "3 \n",
            "5 \n",
            "8 \n",
            "13 \n",
            "21 \n",
            "34 \n"
          ]
        }
      ]
    },
    {
      "cell_type": "code",
      "source": [
        "class Pad:\n",
        "  \"\"\"Represents a type of pad with a brand, size, quantity, and price.\"\"\"\n",
        "\n",
        "  def __init__(self, brand, size, quantity, price):\n",
        "    self.brand = brand\n",
        "    self.size = size\n",
        "    self.quantity = quantity\n",
        "    self.price = price\n",
        "\n",
        "\n",
        "class PadVendingMachine:\n",
        "  \"\"\"Simulates a pad vending machine with a list of pads and payment functionality.\"\"\"\n",
        "\n",
        "  def __init__(self):\n",
        "    self.pads = [\n",
        "        Pad(\"Always\", \"Regular\", 5, 1.50),\n",
        "        Pad(\"Stayfree\", \"Long\", 3, 2.00),\n",
        "        Pad(\"whisper\", \"Pantyliner\", 7, 1.00),\n",
        "    ]\n",
        "    self.balance = 0.0\n",
        "    self.accepted_coins = (0.25, 0.50, 1.00)\n",
        "\n",
        "  def display_pads(self):\n",
        "    \"\"\"Prints a list of available pads with brands, sizes, and quantities.\"\"\"\n",
        "    print(\"\\nAvailable Pads:\")\n",
        "    for i, pad in enumerate(self.pads):\n",
        "      print(f\"{i+1}. {pad.brand} - {pad.size} ({pad.quantity} remaining): ${pad.price:.2f}\")\n",
        "\n",
        "  def select_pad(self):\n",
        "    \"\"\"Prompts user to select a pad and checks availability.\"\"\"\n",
        "    self.display_pads()\n",
        "    while True:\n",
        "      choice_str = input(\"Enter the number of the pad you want (or 0 to cancel): \")\n",
        "      try:\n",
        "        choice = int(choice_str)\n",
        "        if 0 < choice <= len(self.pads):\n",
        "          return self.pads[choice - 1]\n",
        "        else:\n",
        "          print(\"Invalid choice. Please try again.\")\n",
        "      except ValueError:\n",
        "        print(\"Invalid input. Please enter a number.\")\n",
        "\n",
        "  def insert_money(self):\n",
        "    \"\"\"Prompts user to insert coins and updates balance.\"\"\"\n",
        "    while True:\n",
        "      amount_str = input(\"Enter coins inserted ($): \")\n",
        "      try:\n",
        "        amount = float(amount_str)\n",
        "        if all(coin <= amount for coin in self.accepted_coins):\n",
        "          self.balance += amount\n",
        "          print(f\"${amount:.2f} added to balance.\")\n",
        "          return\n",
        "        else:\n",
        "          print(f\"Invalid coin denomination. Please insert coins from: {self.accepted_coins}\")\n",
        "      except ValueError:\n",
        "        print(\"Invalid input. Please enter a number.\")\n",
        "\n",
        "  def dispense_pad(self, pad):\n",
        "    \"\"\"Checks balance and dispenses pad if sufficient funds and available.\"\"\"\n",
        "    if pad.quantity > 0:\n",
        "      if self.balance >= pad.price:\n",
        "        self.balance -= pad.price\n",
        "        pad.quantity -= 1\n",
        "        print(f\"{pad.brand} - {pad.size} dispensed.\")\n",
        "        print(f\"Thank you for taking our pad.\")\n",
        "      else:\n",
        "        print(f\"Insufficient funds. Please insert ${pad.price:.2f} or more.\")\n",
        "    else:\n",
        "      print(f\"Out of stock: {pad.brand} - {pad.size}\")\n",
        "\n",
        "  def run(self):\n",
        "    \"\"\"Main loop for user interaction\"\"\"\n",
        "    while True:\n",
        "      print(\"\\nPad Vending Machine\")\n",
        "      print(\"1. Select Pad\")\n",
        "      print(\"2. Insert Money\")\n",
        "      print(\"3. Dispense Pad\")\n",
        "      print(\"4. Exit\")\n",
        "\n",
        "      choice = input(\"Enter your choice (1-4): \")\n",
        "\n",
        "      if choice == '1':\n",
        "        selected_pad = self.select_pad()\n",
        "        if selected_pad:\n",
        "          self.dispense_pad(selected_pad)\n",
        "      elif choice == '2':\n",
        "        self.insert_money()\n",
        "      elif choice == '3':\n",
        "        print(\"Please select a pad first (option 1).\")\n",
        "      elif choice == '4':\n",
        "        print(\"Exiting Pad Vending Machine\")\n",
        "        break\n",
        "      else:\n",
        "        print(\"Invalid choice. Please try again.\")\n",
        "\n",
        "\n",
        "\n",
        "vending_machine = PadVendingMachine()\n",
        "vending_machine.run()\n"
      ],
      "metadata": {
        "colab": {
          "base_uri": "https://localhost:8080/"
        },
        "id": "mUeo_UzDvE01",
        "outputId": "56a23ea5-3e2c-4ba1-e821-ba85cd67f93d"
      },
      "execution_count": 1,
      "outputs": [
        {
          "output_type": "stream",
          "name": "stdout",
          "text": [
            "\n",
            "Pad Vending Machine\n",
            "1. Select Pad\n",
            "2. Insert Money\n",
            "3. Dispense Pad\n",
            "4. Exit\n",
            "Enter your choice (1-4): 2\n",
            "Enter coins inserted ($): 10\n",
            "$10.00 added to balance.\n",
            "\n",
            "Pad Vending Machine\n",
            "1. Select Pad\n",
            "2. Insert Money\n",
            "3. Dispense Pad\n",
            "4. Exit\n",
            "Enter your choice (1-4): 1\n",
            "\n",
            "Available Pads:\n",
            "1. Always - Regular (5 remaining): $1.50\n",
            "2. Stayfree - Long (3 remaining): $2.00\n",
            "3. whisper - Pantyliner (7 remaining): $1.00\n",
            "Enter the number of the pad you want (or 0 to cancel): 3\n",
            "whisper - Pantyliner dispensed.\n",
            "Thank you for taking our pad.\n",
            "\n",
            "Pad Vending Machine\n",
            "1. Select Pad\n",
            "2. Insert Money\n",
            "3. Dispense Pad\n",
            "4. Exit\n",
            "Enter your choice (1-4): 4\n",
            "Exiting Pad Vending Machine\n"
          ]
        }
      ]
    }
  ],
  "metadata": {
    "colab": {
      "provenance": [],
      "authorship_tag": "ABX9TyMCcF4wHXiacXCmp/GPuji4",
      "include_colab_link": true
    },
    "kernelspec": {
      "display_name": "Python 3",
      "name": "python3"
    },
    "language_info": {
      "name": "python"
    }
  },
  "nbformat": 4,
  "nbformat_minor": 0
}